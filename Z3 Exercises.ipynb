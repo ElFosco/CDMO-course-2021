{
 "cells": [
  {
   "cell_type": "markdown",
   "id": "accessory-couple",
   "metadata": {},
   "source": [
    "# Practicing with Z3\n",
    "\n",
    "> Before trying to solve the exercises contained in this notebook, the reader is suggested to have gained experience with the tool through the `Z3 Tutorial.ipynb` notebook."
   ]
  },
  {
   "cell_type": "code",
   "execution_count": 1,
   "id": "fuzzy-intersection",
   "metadata": {
    "pycharm": {
     "name": "#%%\n"
    }
   },
   "outputs": [],
   "source": [
    "from z3 import *"
   ]
  },
  {
   "cell_type": "markdown",
   "id": "extended-february",
   "metadata": {},
   "source": [
    "## N-Queens\n",
    "\n",
    "Does not need presentation, right?"
   ]
  },
  {
   "cell_type": "markdown",
   "id": "governmental-artist",
   "metadata": {},
   "source": [
    "### Why not backtracking?\n",
    "\n",
    "The following implementation is taken from [Rosetta Code](https://rosettacode.org/wiki/N-queens_problem#Python).\n",
    "\n",
    "> Note: The `nqueens` function returns a generator and we only measure the time required to find the first feasible solution"
   ]
  },
  {
   "cell_type": "code",
   "execution_count": 2,
   "id": "lightweight-honduras",
   "metadata": {},
   "outputs": [],
   "source": [
    "def display_checkboard(s):\n",
    "    board = [[0] * len(s) for i in range(len(s))]\n",
    "    for x,y in s:\n",
    "        board[x-1][y-1] = 1\n",
    "    for i in range(len(board)):\n",
    "        for j in range(len(board[0])):\n",
    "            symbol = '♛' if board[i][j] == 1 else '.'\n",
    "            print(symbol, end = ' ')\n",
    "        print()\n",
    "\n",
    "def under_attack(col, queens):\n",
    "    return col in queens or \\\n",
    "           any(abs(col - x) == len(queens)-i for i, x in enumerate(queens))\n",
    " \n",
    "def nqueens(n):\n",
    "    solutions = [[]]\n",
    "    for row in range(n):\n",
    "        solutions = (solution+[i+1]\n",
    "                       for solution in solutions # first for clause is evaluated immediately,\n",
    "                                                 # so \"solutions\" is correctly captured\n",
    "                       for i in range(n)\n",
    "                       if not under_attack(i+1, solution))\n",
    "    return solutions"
   ]
  },
  {
   "cell_type": "code",
   "execution_count": 3,
   "id": "falling-polls",
   "metadata": {
    "pycharm": {
     "name": "#%%\n"
    }
   },
   "outputs": [
    {
     "name": "stdout",
     "output_type": "stream",
     "text": [
      ". . ♛ . . . . . . . . . . . . . . . . . . . . . . . \n",
      ". . . . ♛ . . . . . . . . . . . . . . . . . . . . . \n",
      ". ♛ . . . . . . . . . . . . . . . . . . . . . . . . \n",
      ". . . ♛ . . . . . . . . . . . . . . . . . . . . . . \n",
      ". . . . . . . . ♛ . . . . . . . . . . . . . . . . . \n",
      ". . . . . . . . . . ♛ . . . . . . . . . . . . . . . \n",
      ". . . . . . . . . . . . ♛ . . . . . . . . . . . . . \n",
      ". . . . . . . . . . . . . . ♛ . . . . . . . . . . . \n",
      ". . . . . . . . . . . . . . . . . . . . ♛ . . . . . \n",
      ". . . . . . . . . . . . . . . . . . . . . . ♛ . . . \n",
      ". . . . . . . . . . . . . . . . . . . . . . . . ♛ . \n",
      ". . . . . . . . . . . . . . . . . . . ♛ . . . . . . \n",
      ". . . . . . . . . . . . . . . . . . . . . ♛ . . . . \n",
      ". . . . . . . . . . . . . . . . . . . . . . . ♛ . . \n",
      ". . . . . . . . . . . . . . . . . . . . . . . . . ♛ \n",
      ". . . . . . . . . ♛ . . . . . . . . . . . . . . . . \n",
      ". . . . . . ♛ . . . . . . . . . . . . . . . . . . . \n",
      ". . . . . . . . . . . . . . . ♛ . . . . . . . . . . \n",
      ". . . . . . . . . . . ♛ . . . . . . . . . . . . . . \n",
      ". . . . . . . ♛ . . . . . . . . . . . . . . . . . . \n",
      ". . . . . ♛ . . . . . . . . . . . . . . . . . . . . \n",
      ". . . . . . . . . . . . . . . . . ♛ . . . . . . . . \n",
      ". . . . . . . . . . . . . ♛ . . . . . . . . . . . . \n",
      ". . . . . . . . . . . . . . . . . . ♛ . . . . . . . \n",
      ". . . . . . . . . . . . . . . . ♛ . . . . . . . . . \n",
      "♛ . . . . . . . . . . . . . . . . . . . . . . . . . \n",
      "CPU times: user 12.5 s, sys: 12.7 ms, total: 12.5 s\n",
      "Wall time: 12.5 s\n"
     ]
    }
   ],
   "source": [
    "%%time\n",
    "generator = nqueens(26)\n",
    "display_checkboard(list(enumerate(next(generator))))"
   ]
  },
  {
   "cell_type": "markdown",
   "id": "convinced-observation",
   "metadata": {},
   "source": [
    "We can notice that the solving time becomes quickly intractable as we increase $n$ using traditional backtracking. For instance, when $n > 30$ time exceeds the minutes barrier. \n",
    "\n",
    "This is due to the fact that the algorithm has a computational complexity of $O(n!)$. If you are interested in knowing why you can refer to this [article](http://techieme.in/solving-the-n-queen-problem/)."
   ]
  },
  {
   "cell_type": "markdown",
   "id": "interracial-florida",
   "metadata": {},
   "source": [
    "### SMT Solution\n",
    "\n",
    "With Z3 you only take care of the constraints of your problem, leaving to the solver the burden of searching for a feasible solution."
   ]
  },
  {
   "cell_type": "code",
   "execution_count": 4,
   "id": "satellite-leader",
   "metadata": {
    "pycharm": {
     "name": "#%%\n"
    }
   },
   "outputs": [],
   "source": [
    "def abs_z3(a):\n",
    "    return If(a >= 0, a, -a)\n",
    "\n",
    "def nqueens_z3(n):\n",
    "    cols = [Int('c%d' % i) for i in range(n)]\n",
    "    rows = range(n)\n",
    "    s = Solver()\n",
    "\n",
    "    for i in range(n):\n",
    "        # each queen must be in the chessboard's limits\n",
    "        s.add(cols[i] >= 0, cols[i] < n)\n",
    "\n",
    "    for i in range(n - 1):\n",
    "        for j in range(i + 1, n):\n",
    "            s.add(cols[i] != cols[j])\n",
    "            s.add(rows[i] != rows[j])\n",
    "            s.add(abs_z3(cols[i] - cols[j]) != abs(rows[i] - rows[j]))\n",
    "\n",
    "    if s.check() == unsat:\n",
    "        raise Exception('Unsatisfiable constraints')\n",
    "\n",
    "    m = s.model()\n",
    "    return [(m[x].as_long(), y) for x, y in zip(cols, rows)]"
   ]
  },
  {
   "cell_type": "code",
   "execution_count": 5,
   "id": "engaging-trauma",
   "metadata": {},
   "outputs": [
    {
     "name": "stdout",
     "output_type": "stream",
     "text": [
      ". . . . . . . . . . . . ♛ . . . . . . . . . . . . . \n",
      ". . . . . . . . . . . . . . . . . . . . ♛ . . . . . \n",
      ". . . . . . . . . . . . . . . . . . . . . . ♛ . . . \n",
      ". . . . . . . . . . . ♛ . . . . . . . . . . . . . . \n",
      ". . . . . ♛ . . . . . . . . . . . . . . . . . . . . \n",
      ". . . . . . . . . . . . . . ♛ . . . . . . . . . . . \n",
      ". . . . ♛ . . . . . . . . . . . . . . . . . . . . . \n",
      ". . . . . . . . . . . . . . . . . . . . . . . . . ♛ \n",
      ". . . ♛ . . . . . . . . . . . . . . . . . . . . . . \n",
      ". . . . . . . . . . . . . ♛ . . . . . . . . . . . . \n",
      ". . . . . . . ♛ . . . . . . . . . . . . . . . . . . \n",
      ". . . . . . . . . . . . . . . . . ♛ . . . . . . . . \n",
      ". ♛ . . . . . . . . . . . . . . . . . . . . . . . . \n",
      ". . . . . . . . . . . . . . . . . . . . . . . . ♛ . \n",
      ". . . . . . . . . . . . . . . . . . . . . ♛ . . . . \n",
      ". . . . . . . . . . . . . . . . . . ♛ . . . . . . . \n",
      ". . ♛ . . . . . . . . . . . . . . . . . . . . . . . \n",
      ". . . . . . . . . . . . . . . . . . . ♛ . . . . . . \n",
      ". . . . . . . . . ♛ . . . . . . . . . . . . . . . . \n",
      ". . . . . . . . . . . . . . . ♛ . . . . . . . . . . \n",
      "♛ . . . . . . . . . . . . . . . . . . . . . . . . . \n",
      ". . . . . . . . ♛ . . . . . . . . . . . . . . . . . \n",
      ". . . . . . . . . . ♛ . . . . . . . . . . . . . . . \n",
      ". . . . . . . . . . . . . . . . . . . . . . . ♛ . . \n",
      ". . . . . . ♛ . . . . . . . . . . . . . . . . . . . \n",
      ". . . . . . . . . . . . . . . . ♛ . . . . . . . . . \n",
      "CPU times: user 1.21 s, sys: 32.4 ms, total: 1.25 s\n",
      "Wall time: 1.26 s\n"
     ]
    }
   ],
   "source": [
    "%%time\n",
    "display_checkboard(nqueens_z3(26))"
   ]
  },
  {
   "cell_type": "markdown",
   "id": "amended-palestinian",
   "metadata": {},
   "source": [
    "Benefits of using Z3 are evident making a comparison with the previous execution time with the same instance size, and you can even try to increase $n$ to values up to 100 still obtaining a solution in less than a minute.\n",
    "\n",
    "> Note: I suggest not to display the solution for $n>50$ because it would not fit the cell space well"
   ]
  },
  {
   "cell_type": "markdown",
   "id": "strange-condition",
   "metadata": {},
   "source": [
    "## Sudoku\n",
    "\n",
    "Another pretty famous game you are familiar with, right?\n",
    "\n",
    "The goal is to insert the numbers in the boxes to satisfy the following conditions:\n",
    "\n",
    "* Each row...\n",
    "* Each column...\n",
    "* Each 3x3 box...\n",
    "\n",
    "... must contain the digits 1 through 9 exactly once.\n",
    "\n",
    "This exercise demonstrates how to use list comprehensions, typical of Python, for encoding multiple constraints."
   ]
  },
  {
   "cell_type": "code",
   "execution_count": 6,
   "id": "charitable-branch",
   "metadata": {
    "pycharm": {
     "name": "#%%\n"
    }
   },
   "outputs": [],
   "source": [
    "# sudoku instance, '0's correspond to empty cells\n",
    "instance = ((0,0,0,0,9,4,0,3,0),\n",
    "            (0,0,0,5,1,0,0,0,7),\n",
    "            (0,8,9,0,0,0,0,4,0),\n",
    "            (0,0,0,0,0,0,2,0,8),\n",
    "            (0,6,0,2,0,1,0,5,0),\n",
    "            (1,0,2,0,0,0,0,0,0),\n",
    "            (0,7,0,0,0,0,5,2,0),\n",
    "            (9,0,0,0,6,5,0,0,0),\n",
    "            (0,4,0,9,7,0,0,0,0))"
   ]
  },
  {
   "cell_type": "code",
   "execution_count": 7,
   "id": "complete-single",
   "metadata": {
    "pycharm": {
     "name": "#%%\n"
    }
   },
   "outputs": [
    {
     "name": "stdout",
     "output_type": "stream",
     "text": [
      "[[7, 1, 5, 8, 9, 4, 6, 3, 2],\n",
      " [2, 3, 4, 5, 1, 6, 8, 9, 7],\n",
      " [6, 8, 9, 7, 2, 3, 1, 4, 5],\n",
      " [4, 9, 3, 6, 5, 7, 2, 1, 8],\n",
      " [8, 6, 7, 2, 3, 1, 9, 5, 4],\n",
      " [1, 5, 2, 4, 8, 9, 7, 6, 3],\n",
      " [3, 7, 6, 1, 4, 8, 5, 2, 9],\n",
      " [9, 2, 8, 3, 6, 5, 4, 7, 1],\n",
      " [5, 4, 1, 9, 7, 2, 3, 8, 6]]\n"
     ]
    }
   ],
   "source": [
    "# 9x9 matrix of integer variables\n",
    "X = [[Int(\"x_%s_%s\" % (i+1, j+1)) for j in range(9)] for i in range(9)]\n",
    "\n",
    "# each cell contains a value in {1, ..., 9}\n",
    "cells_c = [And(1 <= X[i][j], X[i][j] <= 9)\n",
    "           for i in range(9) for j in range(9)]\n",
    "\n",
    "# each row contains a digit at most once\n",
    "rows_c = [Distinct(X[i]) for i in range(9)]\n",
    "\n",
    "# each column contains a digit at most once\n",
    "cols_c = [Distinct([X[i][j] for i in range(9)]) for j in range(9)]\n",
    "\n",
    "# each 3x3 square contains a digit at most once\n",
    "sq_c = [Distinct([X[3*i0 + i][3*j0 + j] for i in range(3) for j in range(3)])\n",
    "        for i0 in range(3) for j0 in range(3)]\n",
    "\n",
    "sudoku_c = cells_c + rows_c + cols_c + sq_c\n",
    "\n",
    "instance_c = [If(instance[i][j] == 0, True, X[i][j] == instance[i][j])\n",
    "              for i in range(9) for j in range(9)]\n",
    "\n",
    "s = Solver()\n",
    "s.add(sudoku_c + instance_c)\n",
    "\n",
    "if s.check() == sat:\n",
    "    m = s.model()\n",
    "    r = [ [ m.evaluate(X[i][j]) for j in range(9) ]\n",
    "          for i in range(9) ]\n",
    "    print_matrix(r)\n",
    "else:\n",
    "    print(\"Failed to solve\")"
   ]
  },
  {
   "cell_type": "markdown",
   "id": "pending-halifax",
   "metadata": {},
   "source": [
    "## Einstein's Riddle\n",
    "\n",
    "The author of this problem is Albert Einstein who said that 98% of the people in the world couldn't solve it.\n",
    "\n",
    "### Facts:\n",
    "\n",
    "1. There are 5 houses (along a street) in 5 different **colors**:\n",
    "        Blue, Green, Red, White, and Yellow.\n",
    "\n",
    "2. In each house lives a person of a different **nationality**:\n",
    "        Brit, Dane, German, Norwegian, and Swede.\n",
    "\n",
    "3. These 5 owners\n",
    "\n",
    "    3.1. drink a certain **beverage**:\n",
    "        Beer, Coffee, Milk, Tea, and Water.\n",
    "    3.2. smoke a certain brand of **cigar**:\n",
    "        Blue Master, Dunhill, Pall Mall, Prince, and blend,\n",
    "    3.3. and keep a certain **pet**:\n",
    "        Cat, Bird, Dog, Fish, and Horse.\n",
    "4. **No owners have the same** pet, smoke the same brand of cigar, or drink the same beverage.\n",
    "\n",
    "### Hints:\n",
    "\n",
    "1.\t\tThe Brit lives in a red house.\n",
    "2.\t\tThe Swede keeps dogs as pets.\n",
    "3.\t\tThe Dane drinks tea.\n",
    "4.\t\tThe green house is on the left of the white house (next to it).\n",
    "5.\t\tThe green house owner drinks coffee.\n",
    "6.\t\tThe person who smokes Pall Mall rears birds.\n",
    "7.\t\tThe owner of the yellow house smokes Dunhill.\n",
    "8.\t\tThe man living in the house right in the center drinks milk.\n",
    "9.\t\tThe Norwegian lives in the first house.\n",
    "10.\t\tThe man who smokes blend lives next to the one who keeps cats.\n",
    "11.\t\tThe man who keeps horses lives next to the man who smokes Dunhill.\n",
    "12.\t\tThe owner who smokes Blue Master drinks beer.\n",
    "13.\t\tThe German smokes Prince.\n",
    "14.\t\tThe Norwegian lives next to the blue house.\n",
    "15.\t\tThe man who smokes blend has a neighbor who drinks water.\n",
    "\n",
    "### Question\n",
    "\n",
    "Who keeps the fish?"
   ]
  },
  {
   "cell_type": "markdown",
   "id": "infectious-aspect",
   "metadata": {},
   "source": [
    "### Solution\n",
    "\n",
    "The first step consists in encoding the variables of the problem inside Z3. We associate each of them to an integer between 0 and 4, and we also enforce that two houses do not contain the same property."
   ]
  },
  {
   "cell_type": "code",
   "execution_count": 8,
   "id": "romantic-edgar",
   "metadata": {
    "pycharm": {
     "name": "#%%\n"
    }
   },
   "outputs": [],
   "source": [
    "p = [('Yellow', 'Green', 'Blue', 'Red', 'White'),\n",
    "    ('Brit', 'Dane', 'German', 'Norwegian', 'Swede'),\n",
    "    ('Beer', 'Coffee', 'Milk', 'Tea', 'Water'),\n",
    "    ('Blue Master', 'Dunhill', 'Pall Mall', 'Prince', 'Blend'),\n",
    "    ('Cat', 'Bird', 'Dog', 'Fish', 'Horse')]\n",
    "\n",
    "s = Solver()\n",
    "\n",
    "houses = []\n",
    "for n in range(5):\n",
    "    house = []\n",
    "    for prop in 'color', 'nationality', 'beverage', 'smoke', 'pet':\n",
    "        x = Int(f\"{prop}{n}\")\n",
    "        s.add(x >= 0, x <= 4)\n",
    "        house.append(x)\n",
    "    houses.append(house)\n",
    "\n",
    "# Associate an alias number to each attribute for convenience\n",
    "color, nationality, beverage, smoke, pet = range(5)\n",
    "\n",
    "# Each column must have different values\n",
    "for i in range(5):\n",
    "    s.add(Distinct([houses[j][i] for j in range(5)]))"
   ]
  },
  {
   "cell_type": "markdown",
   "id": "illegal-algeria",
   "metadata": {},
   "source": [
    "Now, let's feed the solver with the available hints as constraints:\n",
    "\n",
    "> Remember that we can exploit the advantages provided us by Python to simplify this task"
   ]
  },
  {
   "cell_type": "code",
   "execution_count": 9,
   "id": "blessed-exposure",
   "metadata": {
    "pycharm": {
     "name": "#%%\n"
    }
   },
   "outputs": [],
   "source": [
    "def same_house(prop1: int, value1: str, prop2: int, value2: str):\n",
    "    return Or([\n",
    "        And(houses[i][prop1] == p[prop1].index(value1), houses[i][prop2] == p[prop2].index(value2))\n",
    "        for i in range(5)\n",
    "    ])\n",
    "\n",
    "def next_to(prop: int, value1: str, value2: str):\n",
    "    return Or([\n",
    "        And(houses[i][prop] == p[prop].index(value1), houses[i + 1][prop] == p[prop].index(value2))\n",
    "        for i in range(4)\n",
    "    ])\n",
    "\n",
    "def neighbor(prop1: int, value1: str, prop2: int, value2: str):\n",
    "    return Or(\n",
    "        And(houses[0][prop1] == p[prop1].index(value1), houses[1][prop2] == p[prop2].index(value2)),\n",
    "        And(houses[1][prop1] == p[prop1].index(value1), Or(houses[0][prop2] == p[prop2].index(value2), houses[2][prop2] == p[prop2].index(value2))),\n",
    "        And(houses[2][prop1] == p[prop1].index(value1), Or(houses[1][prop2] == p[prop2].index(value2), houses[3][prop2] == p[prop2].index(value2))),\n",
    "        And(houses[3][prop1] == p[prop1].index(value1), Or(houses[2][prop2] == p[prop2].index(value2), houses[4][prop2] == p[prop2].index(value2))),\n",
    "        And(houses[4][prop1] == p[prop1].index(value1), houses[3][prop2] == p[prop2].index(value2)),\n",
    "    )"
   ]
  },
  {
   "cell_type": "code",
   "execution_count": 10,
   "id": "further-institution",
   "metadata": {
    "pycharm": {
     "name": "#%%\n"
    }
   },
   "outputs": [
    {
     "data": {
      "text/plain": "sat",
      "text/html": "<b>sat</b>"
     },
     "execution_count": 10,
     "metadata": {},
     "output_type": "execute_result"
    }
   ],
   "source": [
    "# 1. The Brit lives in a red house.\n",
    "s.add(same_house(nationality, 'Brit', color, 'Red'))\n",
    "\n",
    "# 2. The Swede keeps dogs as pets.\n",
    "s.add(same_house(nationality, 'Swede', pet, 'Dog'))\n",
    "\n",
    "# 3. The Dane drinks tea.\n",
    "s.add(same_house(nationality, 'Dane', beverage, 'Tea'))\n",
    "\n",
    "# 4. The green house is on the left of the white house (next to it).\n",
    "s.add(next_to(color, 'Green', 'White'))\n",
    "\n",
    "# 5. The green house owner drinks coffee.\n",
    "s.add(same_house(color, 'Green', beverage, 'Coffee'))\n",
    "\n",
    "# 6. The person who smokes Pall Mall rears birds.\n",
    "s.add(same_house(smoke, 'Pall Mall', pet, 'Bird'))\n",
    "\n",
    "# 7. The owner of the yellow house smokes Dunhill.\n",
    "s.add(same_house(color, 'Yellow', smoke, 'Dunhill'))\n",
    "\n",
    "# 8. The man living in the house right in the center drinks milk.\n",
    "s.add(houses[2][beverage] == p[beverage].index('Milk'))\n",
    "\n",
    "# 9. The Norwegian lives in the first house.\n",
    "s.add(houses[0][nationality] == p[nationality].index('Norwegian'))\n",
    "\n",
    "# 10. The man who smokes blend lives next to the one who keeps cats.\n",
    "s.add(neighbor(smoke, 'Blend', pet, 'Cat'))\n",
    "\n",
    "# 11. The man who keeps horses lives next to the man who smokes Dunhill.\n",
    "s.add(neighbor(pet, 'Horse', smoke, 'Dunhill'))\n",
    "\n",
    "# 12. The owner who smokes Blue Master drinks beer.\n",
    "s.add(same_house(smoke, 'Blue Master', beverage, 'Beer'))\n",
    "\n",
    "# 13. The German smokes Prince.\n",
    "s.add(same_house(nationality, 'German', smoke, 'Prince'))\n",
    "\n",
    "# 14. The Norwegian lives next to the blue house.\n",
    "s.add(neighbor(nationality, 'Norwegian', color, 'Blue'))\n",
    "\n",
    "# 15. The man who smokes blend has a neighbor who drinks water.\n",
    "s.add(neighbor(smoke, 'Blend', beverage, 'Water'))\n",
    "\n",
    "s.check()"
   ]
  },
  {
   "cell_type": "markdown",
   "source": [
    "If the hints have been encoded without errors, you should have obtained a `sat` result from the previous cell.\n",
    "\n",
    "We just have to show the corresponding solution and look for the owner of the house containing the fish."
   ],
   "metadata": {
    "collapsed": false,
    "pycharm": {
     "name": "#%% md\n"
    }
   }
  },
  {
   "cell_type": "code",
   "execution_count": 11,
   "id": "authorized-insider",
   "metadata": {
    "pycharm": {
     "name": "#%%\n"
    }
   },
   "outputs": [
    {
     "name": "stdout",
     "output_type": "stream",
     "text": [
      "Color: Yellow, Nationality: Norwegian, Beverage: Water, Smoke: Dunhill, Pet: Cat\n",
      "Color: Blue, Nationality: Dane, Beverage: Tea, Smoke: Blend, Pet: Horse\n",
      "Color: Red, Nationality: Brit, Beverage: Milk, Smoke: Pall Mall, Pet: Bird\n",
      "Color: Green, Nationality: German, Beverage: Coffee, Smoke: Prince, Pet: Fish\n",
      "Color: White, Nationality: Swede, Beverage: Beer, Smoke: Blue Master, Pet: Dog\n"
     ]
    }
   ],
   "source": [
    "m = s.model()\n",
    "solution = [[m[case].as_long() for case in line] for line in houses]\n",
    "\n",
    "for i in range(5):\n",
    "    print('Color: %s, Nationality: %s, Beverage: %s, Smoke: %s, Pet: %s' % (\n",
    "        p[color][solution[i][color]],\n",
    "        p[nationality][solution[i][nationality]],\n",
    "        p[beverage][solution[i][beverage]],\n",
    "        p[smoke][solution[i][smoke]],\n",
    "        p[pet][solution[i][pet]])\n",
    "    )"
   ]
  },
  {
   "cell_type": "markdown",
   "id": "burning-saskatchewan",
   "metadata": {},
   "source": [
    "## Magic square"
   ]
  },
  {
   "cell_type": "code",
   "execution_count": 12,
   "id": "lined-request",
   "metadata": {
    "pycharm": {
     "name": "#%%\n"
    }
   },
   "outputs": [
    {
     "name": "stdout",
     "output_type": "stream",
     "text": [
      "Magic value: 15.0\n",
      "006|001|008|\n",
      "007|005|003|\n",
      "002|009|004|\n"
     ]
    }
   ],
   "source": [
    "def magic_square(size):\n",
    "    \"\"\"Try to find a solution for a size-magic square\"\"\"\n",
    "    def column(matrix, i):\n",
    "        \"\"\"Get the column i of matrix\"\"\"\n",
    "        return [matrix[j][i] for j in range(size)]\n",
    "\n",
    "    def get_diagonals(matrix):\n",
    "        \"\"\"Get the diagonals of matrix\"\"\"\n",
    "        return [matrix[i][i] for i in range(size)], [matrix[i][size - i - 1] for i in range(size)]\n",
    "\n",
    "    def get_constrained_int(x, y, s):\n",
    "        \"\"\"Get an Int and add the constraints associated directly in the solver\"\"\"\n",
    "        # Int() is too slow!\n",
    "        x = BitVec('x%dy%d' % (x, y), 32)\n",
    "        s.add(x > 0, x <= size**2)\n",
    "        return x\n",
    "\n",
    "    s = Solver()\n",
    "    magic = (size * (size**2 + 1)) / 2\n",
    "    matrix = [[get_constrained_int(y, x, s) for y in range(size)] for x in range(size)]\n",
    "\n",
    "    # Each value must be different\n",
    "    s.add(Distinct([matrix[i][j] for j in range(size) for i in range(size)]))\n",
    "\n",
    "    for i in range(size):\n",
    "        # Sum of each line, column must be equal to magic\n",
    "        s.add(Sum(matrix[i]) == magic, Sum(column(matrix, i)) == magic)\n",
    "\n",
    "    # Sum of each diagonal must be equal to magic\n",
    "    d1, d2 = get_diagonals(matrix)\n",
    "    s.add(Sum(d1) == magic, Sum(d2) == magic)\n",
    "\n",
    "    if s.check() == unsat:\n",
    "        raise Exception('The problem is not sat')\n",
    "\n",
    "    m = s.model()\n",
    "    return [[m[val].as_long() for val in line] for line in matrix], magic\n",
    "\n",
    "def display_magic_square(s, magic):\n",
    "    \"\"\"Display the magic square with the solution\"\"\"\n",
    "    print(f'Magic value: {magic}')\n",
    "    for i in range(len(s)):\n",
    "        print(('%.3d|' * len(s)) % tuple(s[i]))\n",
    "\n",
    "s, magic = magic_square(3)\n",
    "display_magic_square(s, magic)"
   ]
  }
 ],
 "metadata": {
  "kernelspec": {
   "display_name": "Python 3",
   "language": "python",
   "name": "python3"
  },
  "language_info": {
   "codemirror_mode": {
    "name": "ipython",
    "version": 3
   },
   "file_extension": ".py",
   "mimetype": "text/x-python",
   "name": "python",
   "nbconvert_exporter": "python",
   "pygments_lexer": "ipython3",
   "version": "3.9.3"
  }
 },
 "nbformat": 4,
 "nbformat_minor": 5
}