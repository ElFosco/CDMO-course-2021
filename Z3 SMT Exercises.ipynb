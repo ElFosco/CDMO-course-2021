{
 "cells": [
  {
   "cell_type": "markdown",
   "id": "accessory-couple",
   "metadata": {},
   "source": [
    "# Z3 SMT Exercises\n",
    "\n",
    "> Before trying to solve the exercises contained in this notebook, the reader is suggested to have gained experience with the tool through the `Z3 Tutorial.ipynb` notebook."
   ]
  },
  {
   "cell_type": "code",
   "execution_count": 1,
   "id": "fuzzy-intersection",
   "metadata": {
    "pycharm": {
     "name": "#%%\n"
    }
   },
   "outputs": [],
   "source": [
    "from z3 import *\n",
    "from utils import *"
   ]
  },
  {
   "cell_type": "markdown",
   "id": "strange-condition",
   "metadata": {},
   "source": [
    "## Sudoku"
   ]
  },
  {
   "cell_type": "code",
   "execution_count": 2,
   "id": "charitable-branch",
   "metadata": {
    "pycharm": {
     "name": "#%%\n"
    }
   },
   "outputs": [],
   "source": [
    "# Sudoku instances, '0's correspond to empty cells\n",
    "\n",
    "instance1 = ((0, 0, 0, 0, 9, 4, 0, 3, 0),\n",
    "             (0, 0, 0, 5, 1, 0, 0, 0, 7),\n",
    "             (0, 8, 9, 0, 0, 0, 0, 4, 0),\n",
    "             (0, 0, 0, 0, 0, 0, 2, 0, 8),\n",
    "             (0, 6, 0, 2, 0, 1, 0, 5, 0),\n",
    "             (1, 0, 2, 0, 0, 0, 0, 0, 0),\n",
    "             (0, 7, 0, 0, 0, 0, 5, 2, 0),\n",
    "             (9, 0, 0, 0, 6, 5, 0, 0, 0),\n",
    "             (0, 4, 0, 9, 7, 0, 0, 0, 0))\n",
    "\n",
    "instance2 = ((0, 0, 0, 0, 9, 0, 1, 0, 0),\n",
    "             (2, 8, 0, 0, 0, 5, 0, 0, 0),\n",
    "             (7, 0, 0, 0, 0, 6, 4, 0, 0),\n",
    "             (8, 0, 5, 0, 0, 3, 0, 0, 6),\n",
    "             (0, 0, 1, 0, 0, 4, 0, 0, 0),\n",
    "             (0, 7, 0, 2, 0, 0, 0, 0, 0),\n",
    "             (3, 0, 0, 0, 0, 1, 0, 8, 0),\n",
    "             (0, 0, 0, 0, 0, 0, 0, 5, 0),\n",
    "             (0, 9, 0, 0, 0, 0, 0, 7, 0))\n",
    "\n",
    "instance3 = ((0, 7, 0, 0, 0, 0, 0, 4, 9),\n",
    "             (0, 0, 0, 4, 0, 0, 0, 0, 0),\n",
    "             (4, 0, 3, 5, 0, 7, 0, 0, 8),\n",
    "             (0, 0, 7, 2, 5, 0, 4, 0, 0),\n",
    "             (0, 0, 0, 0, 0, 0, 8, 0, 0),\n",
    "             (0, 0, 4, 0, 3, 0, 5, 9, 2),\n",
    "             (6, 1, 8, 0, 0, 0, 0, 0, 5),\n",
    "             (0, 9, 0, 1, 0, 0, 0, 3, 0),\n",
    "             (0, 0, 5, 0, 0, 0, 0, 0, 7))\n",
    "\n",
    "instance4 = ((0, 0, 0, 0, 0, 6, 0, 0, 0),\n",
    "             (0, 5, 9, 0, 0, 0, 0, 0, 8),\n",
    "             (2, 0, 0, 0, 0, 8, 0, 0, 0),\n",
    "             (0, 4, 5, 0, 0, 0, 0, 0, 0),\n",
    "             (0, 0, 3, 0, 0, 0, 0, 0, 0),\n",
    "             (0, 0, 6, 0, 0, 3, 0, 5, 4),\n",
    "             (0, 0, 0, 3, 2, 5, 0, 0, 6),\n",
    "             (0, 0, 0, 0, 0, 0, 0, 0, 0),\n",
    "             (0, 0, 0, 0, 0, 0, 0, 0, 0))"
   ]
  },
  {
   "cell_type": "code",
   "execution_count": 3,
   "id": "complete-single",
   "metadata": {
    "pycharm": {
     "name": "#%%\n"
    }
   },
   "outputs": [],
   "source": [
    "def sudoku_smt(instance):\n",
    "    # 9x9 matrix of integer variables\n",
    "    v = [[Int(\"x_%s_%s\" % (i+1, j+1)) for j in range(9)] for i in range(9)]\n",
    "\n",
    "    # each cell contains a value in {1, ..., 9}\n",
    "    cells_c = [And(1 <= v[i][j], v[i][j] <= 9)\n",
    "               for i in range(9) for j in range(9)]\n",
    "\n",
    "    # each row contains a digit at most once\n",
    "    rows_c = [Distinct(v[i]) for i in range(9)]\n",
    "\n",
    "    # each column contains a digit at most once\n",
    "    cols_c = [Distinct([v[i][j] for i in range(9)]) for j in range(9)]\n",
    "\n",
    "    # each 3x3 square contains a digit at most once\n",
    "    sq_c = [Distinct([v[3*i0 + i][3*j0 + j] for i in range(3) for j in range(3)])\n",
    "            for i0 in range(3) for j0 in range(3)]\n",
    "\n",
    "    sudoku_c = cells_c + rows_c + cols_c + sq_c\n",
    "\n",
    "    instance_c = [If(instance[i][j] == 0, True, v[i][j] == instance[i][j])\n",
    "                  for i in range(9) for j in range(9)]\n",
    "\n",
    "    s = Solver()\n",
    "    s.add(sudoku_c + instance_c)\n",
    "\n",
    "    if s.check() == sat:\n",
    "        m = s.model()\n",
    "        return [[int(m.evaluate(v[i][j]).as_string()) for j in range(9)] for i in range(9)]\n",
    "    else:\n",
    "        print(\"Failed to solve\")"
   ]
  },
  {
   "cell_type": "code",
   "execution_count": 4,
   "outputs": [
    {
     "data": {
      "text/plain": "<Figure size 288x288 with 1 Axes>",
      "image/png": "[encoded data removed]"
     },
     "metadata": {
      "needs_background": "light"
     },
     "output_type": "display_data"
    }
   ],
   "source": [
    "instance = instance1\n",
    "display_sudoku(instance)"
   ],
   "metadata": {
    "collapsed": false,
    "pycharm": {
     "name": "#%%\n"
    }
   }
  },
  {
   "cell_type": "code",
   "execution_count": 5,
   "outputs": [
    {
     "data": {
      "text/plain": "<Figure size 288x288 with 1 Axes>",
      "image/png": "[encoded data removed]"
     },
     "metadata": {
      "needs_background": "light"
     },
     "output_type": "display_data"
    },
    {
     "name": "stdout",
     "output_type": "stream",
     "text": [
      "CPU times: user 611 ms, sys: 38.7 ms, total: 650 ms\n",
      "Wall time: 654 ms\n"
     ]
    }
   ],
   "source": [
    "%%time\n",
    "display_sudoku(sudoku_smt(instance))"
   ],
   "metadata": {
    "collapsed": false,
    "pycharm": {
     "name": "#%%\n"
    }
   }
  },
  {
   "cell_type": "markdown",
   "source": [
    "## Scheduling"
   ],
   "metadata": {
    "collapsed": false,
    "pycharm": {
     "name": "#%% md\n"
    }
   }
  },
  {
   "cell_type": "code",
   "execution_count": 18,
   "outputs": [],
   "source": [
    "def max_z3(vars):\n",
    "  max = vars[0]\n",
    "  for v in vars[1:]:\n",
    "    max = If(v > max, v, max)\n",
    "  return max\n",
    "\n",
    "def schedule(jobs):\n",
    "    t = []\n",
    "    for i, job in enumerate(jobs):\n",
    "        t.append([])\n",
    "        for j, _ in enumerate(job):\n",
    "            t[i].append(Int(f\"t{i}_{j}\"))\n",
    "\n",
    "    opt = Optimize()\n",
    "\n",
    "    # Starting time of the task >= 0\n",
    "    for job in t:\n",
    "        for start_time in job:\n",
    "            opt.add(start_time >= 0)\n",
    "\n",
    "    # Precedence among the successive tasks of each job\n",
    "    for i, job in enumerate(t):\n",
    "        for j, (prev, succ) in enumerate(zip(job[:-1], job[1:])):\n",
    "            opt.add(prev + jobs[i][j][1] <= succ)\n",
    "\n",
    "    machines = set()\n",
    "    for job in jobs:\n",
    "        for task in job:\n",
    "            machines.add(task[0])\n",
    "\n",
    "    # Machines can only execute one task at a time\n",
    "    machine_ctrs = []\n",
    "    for machine in list(machines):\n",
    "        machine_ctrs.append([])\n",
    "        for i, job1 in enumerate(jobs):\n",
    "            for j, task1 in enumerate(job1):\n",
    "                for ii, job2 in enumerate(jobs):\n",
    "                    for jj, task2 in enumerate(job2):\n",
    "                        if (i < ii or j < jj) and task1[0] == task2[0] == machine:\n",
    "                            machine_ctrs[machine].append(\n",
    "                                Or(t[i][j] + task1[1] <= t[ii][jj],\n",
    "                                   t[ii][jj] + task2[1] <= t[i][j])\n",
    "                            )\n",
    "    for ctrs_list in machine_ctrs:\n",
    "        opt.add(And(ctrs_list))\n",
    "\n",
    "    last_tasks = [start_list[-1] + job[-1][1] for job, start_list in zip(jobs, t)]\n",
    "\n",
    "    total_time = Int('total_time')\n",
    "\n",
    "    objective = total_time == max_z3(last_tasks)\n",
    "    opt.add(objective)\n",
    "    opt.minimize(total_time)\n",
    "    opt.check()\n",
    "    opt.lower()\n",
    "    return opt.model()"
   ],
   "metadata": {
    "collapsed": false,
    "pycharm": {
     "name": "#%%\n"
    }
   }
  },
  {
   "cell_type": "code",
   "execution_count": 19,
   "outputs": [
    {
     "data": {
      "text/plain": "[t0_0 = 0,\n total_time = 11,\n t1_0 = 3,\n t0_2 = 6,\n t2_0 = 0,\n t1_1 = 5,\n t0_1 = 4,\n t1_2 = 6,\n t2_1 = 8]",
      "text/html": "[t0_0 = 0,\n total_time = 11,\n t1_0 = 3,\n t0_2 = 6,\n t2_0 = 0,\n t1_1 = 5,\n t0_1 = 4,\n t1_2 = 6,\n t2_1 = 8]"
     },
     "execution_count": 19,
     "metadata": {},
     "output_type": "execute_result"
    }
   ],
   "source": [
    "j0 = [(0,3), (1,2), (2,2)]\n",
    "j1 = [(0,2), (2,1), (1,4)]\n",
    "j2 = [(1,4), (2,3)]\n",
    "schedule([j0, j1, j2])"
   ],
   "metadata": {
    "collapsed": false,
    "pycharm": {
     "name": "#%%\n"
    }
   }
  },
  {
   "cell_type": "markdown",
   "source": [
    "## Program Equivalence"
   ],
   "metadata": {
    "collapsed": false,
    "pycharm": {
     "name": "#%% md\n"
    }
   }
  },
  {
   "cell_type": "code",
   "execution_count": 8,
   "outputs": [
    {
     "name": "stdout",
     "output_type": "stream",
     "text": [
      "proved\n"
     ]
    }
   ],
   "source": [
    "in0_a, out0_a, out1_a, out2_a = Ints(\"in0_a out0_a out1_a out2_a\")\n",
    "in0_b, out0_b = Ints(\"in0_b out0_b\")\n",
    "\n",
    "power3 = And(\n",
    "    out0_a == in0_a,\n",
    "    out1_a == out0_a * in0_a,\n",
    "    out2_a == out1_a * in0_a\n",
    ")\n",
    "\n",
    "power3_new = out0_b == (in0_b * in0_b) * in0_b\n",
    "\n",
    "prove(Implies(And(power3, power3_new, in0_a == in0_b), out2_a == out0_b))"
   ],
   "metadata": {
    "collapsed": false,
    "pycharm": {
     "name": "#%%\n"
    }
   }
  }
 ],
 "metadata": {
  "kernelspec": {
   "display_name": "Python 3",
   "language": "python",
   "name": "python3"
  },
  "language_info": {
   "codemirror_mode": {
    "name": "ipython",
    "version": 3
   },
   "file_extension": ".py",
   "mimetype": "text/x-python",
   "name": "python",
   "nbconvert_exporter": "python",
   "pygments_lexer": "ipython3",
   "version": "3.9.3"
  }
 },
 "nbformat": 4,
 "nbformat_minor": 5
}